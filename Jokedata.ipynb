{
 "cells": [
  {
   "cell_type": "code",
   "execution_count": 50,
   "metadata": {},
   "outputs": [],
   "source": [
    "import pandas as pd\n",
    "from tqdm import tqdm\n",
    "import numpy as np"
   ]
  },
  {
   "cell_type": "code",
   "execution_count": 2,
   "metadata": {},
   "outputs": [],
   "source": [
    "table = pd.read_csv(\"one-million-reddit-jokes.csv\")"
   ]
  },
  {
   "cell_type": "code",
   "execution_count": 6,
   "metadata": {},
   "outputs": [
    {
     "data": {
      "text/html": [
       "<div>\n",
       "<style scoped>\n",
       "    .dataframe tbody tr th:only-of-type {\n",
       "        vertical-align: middle;\n",
       "    }\n",
       "\n",
       "    .dataframe tbody tr th {\n",
       "        vertical-align: top;\n",
       "    }\n",
       "\n",
       "    .dataframe thead th {\n",
       "        text-align: right;\n",
       "    }\n",
       "</style>\n",
       "<table border=\"1\" class=\"dataframe\">\n",
       "  <thead>\n",
       "    <tr style=\"text-align: right;\">\n",
       "      <th></th>\n",
       "      <th>type</th>\n",
       "      <th>id</th>\n",
       "      <th>subreddit.id</th>\n",
       "      <th>subreddit.name</th>\n",
       "      <th>subreddit.nsfw</th>\n",
       "      <th>created_utc</th>\n",
       "      <th>permalink</th>\n",
       "      <th>domain</th>\n",
       "      <th>url</th>\n",
       "      <th>selftext</th>\n",
       "      <th>title</th>\n",
       "      <th>score</th>\n",
       "    </tr>\n",
       "  </thead>\n",
       "  <tbody>\n",
       "    <tr>\n",
       "      <th>0</th>\n",
       "      <td>post</td>\n",
       "      <td>ftbp1i</td>\n",
       "      <td>2qh72</td>\n",
       "      <td>jokes</td>\n",
       "      <td>False</td>\n",
       "      <td>1585785543</td>\n",
       "      <td>https://old.reddit.com/r/Jokes/comments/ftbp1i...</td>\n",
       "      <td>self.jokes</td>\n",
       "      <td>NaN</td>\n",
       "      <td>My corona is covered with foreskin so it is no...</td>\n",
       "      <td>I am soooo glad I'm not circumcised!</td>\n",
       "      <td>2</td>\n",
       "    </tr>\n",
       "    <tr>\n",
       "      <th>1</th>\n",
       "      <td>post</td>\n",
       "      <td>ftboup</td>\n",
       "      <td>2qh72</td>\n",
       "      <td>jokes</td>\n",
       "      <td>False</td>\n",
       "      <td>1585785522</td>\n",
       "      <td>https://old.reddit.com/r/Jokes/comments/ftboup...</td>\n",
       "      <td>self.jokes</td>\n",
       "      <td>NaN</td>\n",
       "      <td>It's called Google Sheets.</td>\n",
       "      <td>Did you know Google now has a platform for rec...</td>\n",
       "      <td>9</td>\n",
       "    </tr>\n",
       "    <tr>\n",
       "      <th>2</th>\n",
       "      <td>post</td>\n",
       "      <td>ftbopj</td>\n",
       "      <td>2qh72</td>\n",
       "      <td>jokes</td>\n",
       "      <td>False</td>\n",
       "      <td>1585785508</td>\n",
       "      <td>https://old.reddit.com/r/Jokes/comments/ftbopj...</td>\n",
       "      <td>self.jokes</td>\n",
       "      <td>NaN</td>\n",
       "      <td>The vacuum doesn't snore after sex.\\n\\n&amp;amp;#x...</td>\n",
       "      <td>What is the difference between my wife and my ...</td>\n",
       "      <td>15</td>\n",
       "    </tr>\n",
       "    <tr>\n",
       "      <th>3</th>\n",
       "      <td>post</td>\n",
       "      <td>ftbnxh</td>\n",
       "      <td>2qh72</td>\n",
       "      <td>jokes</td>\n",
       "      <td>False</td>\n",
       "      <td>1585785428</td>\n",
       "      <td>https://old.reddit.com/r/Jokes/comments/ftbnxh...</td>\n",
       "      <td>self.jokes</td>\n",
       "      <td>NaN</td>\n",
       "      <td>[removed]</td>\n",
       "      <td>My last joke for now.</td>\n",
       "      <td>9</td>\n",
       "    </tr>\n",
       "    <tr>\n",
       "      <th>4</th>\n",
       "      <td>post</td>\n",
       "      <td>ftbjpg</td>\n",
       "      <td>2qh72</td>\n",
       "      <td>jokes</td>\n",
       "      <td>False</td>\n",
       "      <td>1585785009</td>\n",
       "      <td>https://old.reddit.com/r/Jokes/comments/ftbjpg...</td>\n",
       "      <td>self.jokes</td>\n",
       "      <td>NaN</td>\n",
       "      <td>[removed]</td>\n",
       "      <td>The Nintendo 64 turns 18 this week...</td>\n",
       "      <td>134</td>\n",
       "    </tr>\n",
       "    <tr>\n",
       "      <th>5</th>\n",
       "      <td>post</td>\n",
       "      <td>ftbjjw</td>\n",
       "      <td>2qh72</td>\n",
       "      <td>jokes</td>\n",
       "      <td>False</td>\n",
       "      <td>1585784995</td>\n",
       "      <td>https://old.reddit.com/r/Jokes/comments/ftbjjw...</td>\n",
       "      <td>self.jokes</td>\n",
       "      <td>NaN</td>\n",
       "      <td>[removed]</td>\n",
       "      <td>Sex with teacher.</td>\n",
       "      <td>1</td>\n",
       "    </tr>\n",
       "    <tr>\n",
       "      <th>6</th>\n",
       "      <td>post</td>\n",
       "      <td>ftbg6a</td>\n",
       "      <td>2qh72</td>\n",
       "      <td>jokes</td>\n",
       "      <td>False</td>\n",
       "      <td>1585784651</td>\n",
       "      <td>https://old.reddit.com/r/Jokes/comments/ftbg6a...</td>\n",
       "      <td>self.jokes</td>\n",
       "      <td>NaN</td>\n",
       "      <td>[removed]</td>\n",
       "      <td>Another long one.</td>\n",
       "      <td>8</td>\n",
       "    </tr>\n",
       "    <tr>\n",
       "      <th>7</th>\n",
       "      <td>post</td>\n",
       "      <td>ftbeb4</td>\n",
       "      <td>2qh72</td>\n",
       "      <td>jokes</td>\n",
       "      <td>False</td>\n",
       "      <td>1585784461</td>\n",
       "      <td>https://old.reddit.com/r/Jokes/comments/ftbeb4...</td>\n",
       "      <td>self.jokes</td>\n",
       "      <td>NaN</td>\n",
       "      <td>Oo..lala...</td>\n",
       "      <td>What did the French man say to the attractive ...</td>\n",
       "      <td>2</td>\n",
       "    </tr>\n",
       "    <tr>\n",
       "      <th>8</th>\n",
       "      <td>post</td>\n",
       "      <td>ftbdej</td>\n",
       "      <td>2qh72</td>\n",
       "      <td>jokes</td>\n",
       "      <td>False</td>\n",
       "      <td>1585784367</td>\n",
       "      <td>https://old.reddit.com/r/Jokes/comments/ftbdej...</td>\n",
       "      <td>self.jokes</td>\n",
       "      <td>NaN</td>\n",
       "      <td>[removed]</td>\n",
       "      <td>A Priest takes a walk down to the docks one day</td>\n",
       "      <td>88</td>\n",
       "    </tr>\n",
       "    <tr>\n",
       "      <th>9</th>\n",
       "      <td>post</td>\n",
       "      <td>ftbc7z</td>\n",
       "      <td>2qh72</td>\n",
       "      <td>jokes</td>\n",
       "      <td>False</td>\n",
       "      <td>1585784246</td>\n",
       "      <td>https://old.reddit.com/r/Jokes/comments/ftbc7z...</td>\n",
       "      <td>self.jokes</td>\n",
       "      <td>NaN</td>\n",
       "      <td>[removed]</td>\n",
       "      <td>A long joke.</td>\n",
       "      <td>4</td>\n",
       "    </tr>\n",
       "  </tbody>\n",
       "</table>\n",
       "</div>"
      ],
      "text/plain": [
       "   type      id subreddit.id subreddit.name  subreddit.nsfw  created_utc  \\\n",
       "0  post  ftbp1i        2qh72          jokes           False   1585785543   \n",
       "1  post  ftboup        2qh72          jokes           False   1585785522   \n",
       "2  post  ftbopj        2qh72          jokes           False   1585785508   \n",
       "3  post  ftbnxh        2qh72          jokes           False   1585785428   \n",
       "4  post  ftbjpg        2qh72          jokes           False   1585785009   \n",
       "5  post  ftbjjw        2qh72          jokes           False   1585784995   \n",
       "6  post  ftbg6a        2qh72          jokes           False   1585784651   \n",
       "7  post  ftbeb4        2qh72          jokes           False   1585784461   \n",
       "8  post  ftbdej        2qh72          jokes           False   1585784367   \n",
       "9  post  ftbc7z        2qh72          jokes           False   1585784246   \n",
       "\n",
       "                                           permalink      domain  url  \\\n",
       "0  https://old.reddit.com/r/Jokes/comments/ftbp1i...  self.jokes  NaN   \n",
       "1  https://old.reddit.com/r/Jokes/comments/ftboup...  self.jokes  NaN   \n",
       "2  https://old.reddit.com/r/Jokes/comments/ftbopj...  self.jokes  NaN   \n",
       "3  https://old.reddit.com/r/Jokes/comments/ftbnxh...  self.jokes  NaN   \n",
       "4  https://old.reddit.com/r/Jokes/comments/ftbjpg...  self.jokes  NaN   \n",
       "5  https://old.reddit.com/r/Jokes/comments/ftbjjw...  self.jokes  NaN   \n",
       "6  https://old.reddit.com/r/Jokes/comments/ftbg6a...  self.jokes  NaN   \n",
       "7  https://old.reddit.com/r/Jokes/comments/ftbeb4...  self.jokes  NaN   \n",
       "8  https://old.reddit.com/r/Jokes/comments/ftbdej...  self.jokes  NaN   \n",
       "9  https://old.reddit.com/r/Jokes/comments/ftbc7z...  self.jokes  NaN   \n",
       "\n",
       "                                            selftext  \\\n",
       "0  My corona is covered with foreskin so it is no...   \n",
       "1                         It's called Google Sheets.   \n",
       "2  The vacuum doesn't snore after sex.\\n\\n&amp;#x...   \n",
       "3                                          [removed]   \n",
       "4                                          [removed]   \n",
       "5                                          [removed]   \n",
       "6                                          [removed]   \n",
       "7                                        Oo..lala...   \n",
       "8                                          [removed]   \n",
       "9                                          [removed]   \n",
       "\n",
       "                                               title  score  \n",
       "0               I am soooo glad I'm not circumcised!      2  \n",
       "1  Did you know Google now has a platform for rec...      9  \n",
       "2  What is the difference between my wife and my ...     15  \n",
       "3                              My last joke for now.      9  \n",
       "4              The Nintendo 64 turns 18 this week...    134  \n",
       "5                                  Sex with teacher.      1  \n",
       "6                                  Another long one.      8  \n",
       "7  What did the French man say to the attractive ...      2  \n",
       "8    A Priest takes a walk down to the docks one day     88  \n",
       "9                                       A long joke.      4  "
      ]
     },
     "execution_count": 6,
     "metadata": {},
     "output_type": "execute_result"
    }
   ],
   "source": [
    "table.head(10)"
   ]
  },
  {
   "cell_type": "code",
   "execution_count": 11,
   "metadata": {},
   "outputs": [],
   "source": [
    "table = table.drop(table[(table.selftext == '[removed]')|(table.selftext =='[deleted]')].index)"
   ]
  },
  {
   "cell_type": "code",
   "execution_count": 54,
   "metadata": {},
   "outputs": [],
   "source": [
    "raw_data = table.loc[:,['selftext','title']]"
   ]
  },
  {
   "cell_type": "code",
   "execution_count": 20,
   "metadata": {},
   "outputs": [],
   "source": [
    "raw_data['len'] = len(raw_data.selftext)"
   ]
  },
  {
   "cell_type": "code",
   "execution_count": 55,
   "metadata": {},
   "outputs": [
    {
     "data": {
      "text/html": [
       "<div>\n",
       "<style scoped>\n",
       "    .dataframe tbody tr th:only-of-type {\n",
       "        vertical-align: middle;\n",
       "    }\n",
       "\n",
       "    .dataframe tbody tr th {\n",
       "        vertical-align: top;\n",
       "    }\n",
       "\n",
       "    .dataframe thead th {\n",
       "        text-align: right;\n",
       "    }\n",
       "</style>\n",
       "<table border=\"1\" class=\"dataframe\">\n",
       "  <thead>\n",
       "    <tr style=\"text-align: right;\">\n",
       "      <th></th>\n",
       "      <th>selftext</th>\n",
       "      <th>title</th>\n",
       "    </tr>\n",
       "  </thead>\n",
       "  <tbody>\n",
       "    <tr>\n",
       "      <th>0</th>\n",
       "      <td>My corona is covered with foreskin so it is no...</td>\n",
       "      <td>I am soooo glad I'm not circumcised!</td>\n",
       "    </tr>\n",
       "    <tr>\n",
       "      <th>1</th>\n",
       "      <td>It's called Google Sheets.</td>\n",
       "      <td>Did you know Google now has a platform for rec...</td>\n",
       "    </tr>\n",
       "    <tr>\n",
       "      <th>2</th>\n",
       "      <td>The vacuum doesn't snore after sex.\\n\\n&amp;amp;#x...</td>\n",
       "      <td>What is the difference between my wife and my ...</td>\n",
       "    </tr>\n",
       "    <tr>\n",
       "      <th>7</th>\n",
       "      <td>Oo..lala...</td>\n",
       "      <td>What did the French man say to the attractive ...</td>\n",
       "    </tr>\n",
       "    <tr>\n",
       "      <th>10</th>\n",
       "      <td>Yo momma's so fat, that when she went to the z...</td>\n",
       "      <td>Yo Mama</td>\n",
       "    </tr>\n",
       "    <tr>\n",
       "      <th>...</th>\n",
       "      <td>...</td>\n",
       "      <td>...</td>\n",
       "    </tr>\n",
       "    <tr>\n",
       "      <th>999992</th>\n",
       "      <td>Q: What do you call a lawyer who has gone bad?...</td>\n",
       "      <td>BAD LAWYER</td>\n",
       "    </tr>\n",
       "    <tr>\n",
       "      <th>999994</th>\n",
       "      <td>Supposedly she had to rush the delivery!</td>\n",
       "      <td>Did you hear about the FedEx lady who had a ba...</td>\n",
       "    </tr>\n",
       "    <tr>\n",
       "      <th>999995</th>\n",
       "      <td>*zyan malik or whatever leaves 1d.  \\n*Kayne W...</td>\n",
       "      <td>With Zyan Malik leaving 1D..</td>\n",
       "    </tr>\n",
       "    <tr>\n",
       "      <th>999997</th>\n",
       "      <td>I'll be Bach</td>\n",
       "      <td>What did Arnold Schwarzenegger say when invite...</td>\n",
       "    </tr>\n",
       "    <tr>\n",
       "      <th>999998</th>\n",
       "      <td>So a moth goes into a podiatrists office.\\n\\n\\...</td>\n",
       "      <td>The Moth Joke</td>\n",
       "    </tr>\n",
       "  </tbody>\n",
       "</table>\n",
       "<p>578637 rows × 2 columns</p>\n",
       "</div>"
      ],
      "text/plain": [
       "                                                 selftext  \\\n",
       "0       My corona is covered with foreskin so it is no...   \n",
       "1                              It's called Google Sheets.   \n",
       "2       The vacuum doesn't snore after sex.\\n\\n&amp;#x...   \n",
       "7                                             Oo..lala...   \n",
       "10      Yo momma's so fat, that when she went to the z...   \n",
       "...                                                   ...   \n",
       "999992  Q: What do you call a lawyer who has gone bad?...   \n",
       "999994         Supposedly she had to rush the delivery!     \n",
       "999995  *zyan malik or whatever leaves 1d.  \\n*Kayne W...   \n",
       "999997                                       I'll be Bach   \n",
       "999998  So a moth goes into a podiatrists office.\\n\\n\\...   \n",
       "\n",
       "                                                    title  \n",
       "0                    I am soooo glad I'm not circumcised!  \n",
       "1       Did you know Google now has a platform for rec...  \n",
       "2       What is the difference between my wife and my ...  \n",
       "7       What did the French man say to the attractive ...  \n",
       "10                                                Yo Mama  \n",
       "...                                                   ...  \n",
       "999992                                         BAD LAWYER  \n",
       "999994  Did you hear about the FedEx lady who had a ba...  \n",
       "999995                       With Zyan Malik leaving 1D..  \n",
       "999997  What did Arnold Schwarzenegger say when invite...  \n",
       "999998                                      The Moth Joke  \n",
       "\n",
       "[578637 rows x 2 columns]"
      ]
     },
     "execution_count": 55,
     "metadata": {},
     "output_type": "execute_result"
    }
   ],
   "source": [
    "raw_data"
   ]
  },
  {
   "cell_type": "code",
   "execution_count": 56,
   "metadata": {},
   "outputs": [],
   "source": [
    "\n",
    "raw_data = raw_data.dropna()"
   ]
  },
  {
   "cell_type": "code",
   "execution_count": 57,
   "metadata": {},
   "outputs": [
    {
     "data": {
      "text/html": [
       "<div>\n",
       "<style scoped>\n",
       "    .dataframe tbody tr th:only-of-type {\n",
       "        vertical-align: middle;\n",
       "    }\n",
       "\n",
       "    .dataframe tbody tr th {\n",
       "        vertical-align: top;\n",
       "    }\n",
       "\n",
       "    .dataframe thead th {\n",
       "        text-align: right;\n",
       "    }\n",
       "</style>\n",
       "<table border=\"1\" class=\"dataframe\">\n",
       "  <thead>\n",
       "    <tr style=\"text-align: right;\">\n",
       "      <th></th>\n",
       "      <th>selftext</th>\n",
       "      <th>title</th>\n",
       "    </tr>\n",
       "  </thead>\n",
       "  <tbody>\n",
       "    <tr>\n",
       "      <th>0</th>\n",
       "      <td>My corona is covered with foreskin so it is no...</td>\n",
       "      <td>I am soooo glad I'm not circumcised!</td>\n",
       "    </tr>\n",
       "    <tr>\n",
       "      <th>1</th>\n",
       "      <td>It's called Google Sheets.</td>\n",
       "      <td>Did you know Google now has a platform for rec...</td>\n",
       "    </tr>\n",
       "    <tr>\n",
       "      <th>2</th>\n",
       "      <td>The vacuum doesn't snore after sex.\\n\\n&amp;amp;#x...</td>\n",
       "      <td>What is the difference between my wife and my ...</td>\n",
       "    </tr>\n",
       "    <tr>\n",
       "      <th>7</th>\n",
       "      <td>Oo..lala...</td>\n",
       "      <td>What did the French man say to the attractive ...</td>\n",
       "    </tr>\n",
       "    <tr>\n",
       "      <th>10</th>\n",
       "      <td>Yo momma's so fat, that when she went to the z...</td>\n",
       "      <td>Yo Mama</td>\n",
       "    </tr>\n",
       "    <tr>\n",
       "      <th>...</th>\n",
       "      <td>...</td>\n",
       "      <td>...</td>\n",
       "    </tr>\n",
       "    <tr>\n",
       "      <th>999992</th>\n",
       "      <td>Q: What do you call a lawyer who has gone bad?...</td>\n",
       "      <td>BAD LAWYER</td>\n",
       "    </tr>\n",
       "    <tr>\n",
       "      <th>999994</th>\n",
       "      <td>Supposedly she had to rush the delivery!</td>\n",
       "      <td>Did you hear about the FedEx lady who had a ba...</td>\n",
       "    </tr>\n",
       "    <tr>\n",
       "      <th>999995</th>\n",
       "      <td>*zyan malik or whatever leaves 1d.  \\n*Kayne W...</td>\n",
       "      <td>With Zyan Malik leaving 1D..</td>\n",
       "    </tr>\n",
       "    <tr>\n",
       "      <th>999997</th>\n",
       "      <td>I'll be Bach</td>\n",
       "      <td>What did Arnold Schwarzenegger say when invite...</td>\n",
       "    </tr>\n",
       "    <tr>\n",
       "      <th>999998</th>\n",
       "      <td>So a moth goes into a podiatrists office.\\n\\n\\...</td>\n",
       "      <td>The Moth Joke</td>\n",
       "    </tr>\n",
       "  </tbody>\n",
       "</table>\n",
       "<p>574162 rows × 2 columns</p>\n",
       "</div>"
      ],
      "text/plain": [
       "                                                 selftext  \\\n",
       "0       My corona is covered with foreskin so it is no...   \n",
       "1                              It's called Google Sheets.   \n",
       "2       The vacuum doesn't snore after sex.\\n\\n&amp;#x...   \n",
       "7                                             Oo..lala...   \n",
       "10      Yo momma's so fat, that when she went to the z...   \n",
       "...                                                   ...   \n",
       "999992  Q: What do you call a lawyer who has gone bad?...   \n",
       "999994         Supposedly she had to rush the delivery!     \n",
       "999995  *zyan malik or whatever leaves 1d.  \\n*Kayne W...   \n",
       "999997                                       I'll be Bach   \n",
       "999998  So a moth goes into a podiatrists office.\\n\\n\\...   \n",
       "\n",
       "                                                    title  \n",
       "0                    I am soooo glad I'm not circumcised!  \n",
       "1       Did you know Google now has a platform for rec...  \n",
       "2       What is the difference between my wife and my ...  \n",
       "7       What did the French man say to the attractive ...  \n",
       "10                                                Yo Mama  \n",
       "...                                                   ...  \n",
       "999992                                         BAD LAWYER  \n",
       "999994  Did you hear about the FedEx lady who had a ba...  \n",
       "999995                       With Zyan Malik leaving 1D..  \n",
       "999997  What did Arnold Schwarzenegger say when invite...  \n",
       "999998                                      The Moth Joke  \n",
       "\n",
       "[574162 rows x 2 columns]"
      ]
     },
     "execution_count": 57,
     "metadata": {},
     "output_type": "execute_result"
    }
   ],
   "source": [
    "raw_data"
   ]
  },
  {
   "cell_type": "code",
   "execution_count": 58,
   "metadata": {},
   "outputs": [],
   "source": [
    "raw_data.to_csv(\"filtered_joke.csv\")"
   ]
  },
  {
   "cell_type": "code",
   "execution_count": 38,
   "metadata": {},
   "outputs": [],
   "source": [
    "from transformers import AutoTokenizer\n",
    "tokenizer = AutoTokenizer.from_pretrained('bert-base-uncased')\n"
   ]
  },
  {
   "cell_type": "code",
   "execution_count": 64,
   "metadata": {},
   "outputs": [
    {
     "name": "stderr",
     "output_type": "stream",
     "text": [
      "100%|██████████| 574162/574162 [01:30<00:00, 6321.74it/s]\n"
     ]
    }
   ],
   "source": [
    "length = []\n",
    "for i in tqdm(range(raw_data.shape[0])):\n",
    "    length.append(len(tokenizer(raw_data.iloc[i,0], truncation=True).input_ids))"
   ]
  },
  {
   "cell_type": "code",
   "execution_count": 65,
   "metadata": {},
   "outputs": [
    {
     "name": "stderr",
     "output_type": "stream",
     "text": [
      "100%|██████████| 574162/574162 [00:58<00:00, 9751.28it/s] \n"
     ]
    }
   ],
   "source": [
    "lengthtitle = []\n",
    "for i in tqdm(range(raw_data.shape[0])):\n",
    "    lengthtitle.append(len(tokenizer(raw_data.iloc[i,1], truncation=True).input_ids))"
   ]
  },
  {
   "cell_type": "code",
   "execution_count": 43,
   "metadata": {},
   "outputs": [
    {
     "data": {
      "text/plain": [
       "nan"
      ]
     },
     "execution_count": 43,
     "metadata": {},
     "output_type": "execute_result"
    }
   ],
   "source": [
    "raw_data.iloc[531,0]"
   ]
  },
  {
   "cell_type": "code",
   "execution_count": 66,
   "metadata": {},
   "outputs": [
    {
     "data": {
      "text/plain": [
       "(array([470138.,  35342.,  20688.,  15559.,  11139.,   6997.,   4629.,\n",
       "          2923.,   1894.,   4853.]),\n",
       " array([  2.,  53., 104., 155., 206., 257., 308., 359., 410., 461., 512.]),\n",
       " <BarContainer object of 10 artists>)"
      ]
     },
     "execution_count": 66,
     "metadata": {},
     "output_type": "execute_result"
    },
    {
     "data": {
      "image/png": "[encoded data removed]",
      "text/plain": [
       "<Figure size 640x480 with 1 Axes>"
      ]
     },
     "metadata": {},
     "output_type": "display_data"
    }
   ],
   "source": [
    "import matplotlib.pyplot as plt\n",
    "plt.hist(length)\n"
   ]
  },
  {
   "cell_type": "code",
   "execution_count": 67,
   "metadata": {},
   "outputs": [
    {
     "data": {
      "text/plain": [
       "(array([3.66539e+05, 1.89888e+05, 1.40490e+04, 2.34800e+03, 9.25000e+02,\n",
       "        3.53000e+02, 5.40000e+01, 4.00000e+00, 0.00000e+00, 2.00000e+00]),\n",
       " array([  2. ,  14.7,  27.4,  40.1,  52.8,  65.5,  78.2,  90.9, 103.6,\n",
       "        116.3, 129. ]),\n",
       " <BarContainer object of 10 artists>)"
      ]
     },
     "execution_count": 67,
     "metadata": {},
     "output_type": "execute_result"
    },
    {
     "data": {
      "image/png": "[encoded data removed]",
      "text/plain": [
       "<Figure size 640x480 with 1 Axes>"
      ]
     },
     "metadata": {},
     "output_type": "display_data"
    }
   ],
   "source": [
    "plt.hist(lengthtitle)"
   ]
  },
  {
   "cell_type": "code",
   "execution_count": 63,
   "metadata": {},
   "outputs": [
    {
     "data": {
      "text/plain": [
       "[]"
      ]
     },
     "execution_count": 63,
     "metadata": {},
     "output_type": "execute_result"
    }
   ],
   "source": [
    "lengthtitle"
   ]
  },
  {
   "cell_type": "code",
   "execution_count": 52,
   "metadata": {},
   "outputs": [],
   "source": [
    "np.save(\"lengthtable\",np.array(length))"
   ]
  }
 ],
 "metadata": {
  "kernelspec": {
   "display_name": "ML",
   "language": "python",
   "name": "python3"
  },
  "language_info": {
   "codemirror_mode": {
    "name": "ipython",
    "version": 3
   },
   "file_extension": ".py",
   "mimetype": "text/x-python",
   "name": "python",
   "nbconvert_exporter": "python",
   "pygments_lexer": "ipython3",
   "version": "3.8.13"
  },
  "orig_nbformat": 4,
  "vscode": {
   "interpreter": {
    "hash": "bbea70a2493e8ba13e2c1b8fef819bb46350b3789a3ec48779d15880e5dc47f8"
   }
  }
 },
 "nbformat": 4,
 "nbformat_minor": 2
}
